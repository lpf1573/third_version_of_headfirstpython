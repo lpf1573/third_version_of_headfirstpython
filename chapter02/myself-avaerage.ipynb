{
 "cells": [
  {
   "cell_type": "code",
   "execution_count": 5,
   "metadata": {},
   "outputs": [
    {
     "name": "stdout",
     "output_type": "stream",
     "text": [
      "Darius 13 200m IM\n",
      "['3:03.84', '3:04.27', '3:01.49', '3:04.27', '2:52.44']\n",
      "3:1.26\n"
     ]
    }
   ],
   "source": [
    "FN=\"Darius-13-200m-IM.txt\"\n",
    "FOLDER=\"swimdata/\"\n",
    "\n",
    "\n",
    "swimmer,age,distance,stroke=FN.removesuffix(\".txt\").split(\"-\")\n",
    "with open(FOLDER+FN) as file:\n",
    "    lines=file.readlines()\n",
    "    #times=lines[0].strip().split(\",\")\n",
    "    times=lines[0].strip().split(\",\")\n",
    "    \n",
    "converts=[]\n",
    "for t in times:\n",
    "    minutes ,rest=t.split(\":\")\n",
    "    seconds,hundredths =rest.split(\".\")\n",
    "    converts.append((int(minutes)*60*100)+(int(seconds)*100)+int(hundredths))\n",
    "    \n",
    "    \n",
    "import statistics\n",
    "average=statistics.mean(converts)\n",
    "min_secs,hundredths=str(round(average/100,2)).split(\".\")\n",
    "min_secs=int(min_secs)\n",
    "minutes=min_secs//60\n",
    "seconds=min_secs-minutes*60\n",
    "average=str(minutes)+':'+str(seconds)+'.'+hundredths\n",
    "\n",
    "\n",
    "print(swimmer,age,distance,stroke)\n",
    "\n",
    "print(times)\n",
    "\n",
    "print(average)"
   ]
  },
  {
   "cell_type": "code",
   "execution_count": 4,
   "metadata": {},
   "outputs": [
    {
     "name": "stdout",
     "output_type": "stream",
     "text": [
      "Help on built-in function readlines:\n",
      "\n",
      "readlines(hint=-1, /) method of _io.TextIOWrapper instance\n",
      "    Return a list of lines from the stream.\n",
      "\n",
      "    hint can be specified to control the number of lines read: no more\n",
      "    lines will be read if the total size (in bytes/characters) of all\n",
      "    lines so far exceeds hint.\n",
      "\n"
     ]
    }
   ],
   "source": [
    "help(file.readlines)"
   ]
  }
 ],
 "metadata": {
  "kernelspec": {
   "display_name": "Python 3",
   "language": "python",
   "name": "python3"
  },
  "language_info": {
   "codemirror_mode": {
    "name": "ipython",
    "version": 3
   },
   "file_extension": ".py",
   "mimetype": "text/x-python",
   "name": "python",
   "nbconvert_exporter": "python",
   "pygments_lexer": "ipython3",
   "version": "3.12.1"
  }
 },
 "nbformat": 4,
 "nbformat_minor": 2
}
